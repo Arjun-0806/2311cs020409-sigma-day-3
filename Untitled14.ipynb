{
 "cells": [
  {
   "cell_type": "code",
   "execution_count": 1,
   "metadata": {},
   "outputs": [
    {
     "name": "stdout",
     "output_type": "stream",
     "text": [
      "Enter marks for subject 1: 48\n",
      "Enter marks for subject 2: 57\n",
      "Enter marks for subject 3: 58\n",
      "Grade: Fail\n"
     ]
    }
   ],
   "source": [
    "x = float(input(\"Enter marks for subject 1: \"))\n",
    "y = float(input(\"Enter marks for subject 2: \"))\n",
    "z = float(input(\"Enter marks for subject 3: \"))\n",
    "\n",
    "average = (x + y + z) / 3\n",
    "\n",
    "if average >=90:\n",
    "    print(\"Grade: A\")\n",
    "elif 80 <= average < 90:\n",
    "    print(\"Grade: B\")\n",
    "elif 70 <= average < 80:\n",
    "    print(\"Grade: C\")\n",
    "else:\n",
    "    print(\"Grade: Fail\")"
   ]
  },
  {
   "cell_type": "code",
   "execution_count": null,
   "metadata": {},
   "outputs": [],
   "source": []
  }
 ],
 "metadata": {
  "kernelspec": {
   "display_name": "Python 3",
   "language": "python",
   "name": "python3"
  },
  "language_info": {
   "codemirror_mode": {
    "name": "ipython",
    "version": 3
   },
   "file_extension": ".py",
   "mimetype": "text/x-python",
   "name": "python",
   "nbconvert_exporter": "python",
   "pygments_lexer": "ipython3",
   "version": "3.8.5"
  }
 },
 "nbformat": 4,
 "nbformat_minor": 4
}
