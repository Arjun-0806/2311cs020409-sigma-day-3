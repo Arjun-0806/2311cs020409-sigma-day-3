{
 "cells": [
  {
   "cell_type": "markdown",
   "id": "eb25e1e9-5045-4f84-b344-6413e1525ba5",
   "metadata": {},
   "source": [
    " "
   ]
  },
  {
   "cell_type": "markdown",
   "id": "d4ce46df-36a8-4796-88a0-d5b014c8fb46",
   "metadata": {},
   "source": [
    "def functionname ( paramater):\n",
    "    block of code\n",
    "    return output"
   ]
  },
  {
   "cell_type": "code",
   "execution_count": 10,
   "id": "2abde006-623e-48fa-9f28-b1b2a39a75d4",
   "metadata": {},
   "outputs": [],
   "source": [
    "def calArea(r):\n",
    "    a=3.14*r*r\n",
    "    return a"
   ]
  },
  {
   "cell_type": "code",
   "execution_count": 13,
   "id": "71768aaf-59f0-41ce-8cfd-956ae4fd4ceb",
   "metadata": {},
   "outputs": [
    {
     "data": {
      "text/plain": [
       "314.0"
      ]
     },
     "execution_count": 13,
     "metadata": {},
     "output_type": "execute_result"
    }
   ],
   "source": [
    "calArea(r=10)"
   ]
  },
  {
   "cell_type": "code",
   "execution_count": 15,
   "id": "1f68abc4-13a6-40e6-b5f0-bc4e4e537bb9",
   "metadata": {},
   "outputs": [
    {
     "data": {
      "text/plain": [
       "314.0"
      ]
     },
     "execution_count": 15,
     "metadata": {},
     "output_type": "execute_result"
    }
   ],
   "source": [
    "w=calArea(r=10)\n",
    "w"
   ]
  },
  {
   "cell_type": "code",
   "execution_count": 17,
   "id": "f840b7f7-96e6-4e24-a67a-7fdae60b29fc",
   "metadata": {},
   "outputs": [
    {
     "data": {
      "text/plain": [
       "float"
      ]
     },
     "execution_count": 17,
     "metadata": {},
     "output_type": "execute_result"
    }
   ],
   "source": [
    "type(w)"
   ]
  },
  {
   "cell_type": "code",
   "execution_count": 19,
   "id": "1d0a9e60-3a67-41be-95f5-843bca9fb391",
   "metadata": {},
   "outputs": [],
   "source": [
    "def d_to_inr(x):\n",
    "    print(x*85)"
   ]
  },
  {
   "cell_type": "code",
   "execution_count": 21,
   "id": "b58f31de-58c1-4e61-bfc1-b4d50f97a1fd",
   "metadata": {},
   "outputs": [
    {
     "name": "stdout",
     "output_type": "stream",
     "text": [
      "1275\n"
     ]
    }
   ],
   "source": [
    "a=d_to_inr(15)\n",
    "a"
   ]
  },
  {
   "cell_type": "code",
   "execution_count": 23,
   "id": "0a2e7ad3-7bdb-4b06-877a-d75fa5cbf403",
   "metadata": {},
   "outputs": [
    {
     "name": "stdout",
     "output_type": "stream",
     "text": [
      "1700\n"
     ]
    }
   ],
   "source": [
    "b=d_to_inr(20)\n",
    "b"
   ]
  },
  {
   "cell_type": "code",
   "execution_count": 27,
   "id": "ad61b0f7-4054-4bf5-9195-fcf662804afe",
   "metadata": {},
   "outputs": [],
   "source": [
    "def aor(l,w):\n",
    "    area=l*w\n",
    "    return area"
   ]
  },
  {
   "cell_type": "code",
   "execution_count": 29,
   "id": "4100b9d7-1687-44f1-bb05-54b00352cbb2",
   "metadata": {},
   "outputs": [
    {
     "data": {
      "text/plain": [
       "300"
      ]
     },
     "execution_count": 29,
     "metadata": {},
     "output_type": "execute_result"
    }
   ],
   "source": [
    "aor(20,15)"
   ]
  },
  {
   "cell_type": "code",
   "execution_count": 31,
   "id": "397bbd6d-49cb-4ea3-89aa-dabd1f21549f",
   "metadata": {},
   "outputs": [
    {
     "data": {
      "text/plain": [
       "300"
      ]
     },
     "execution_count": 31,
     "metadata": {},
     "output_type": "execute_result"
    }
   ],
   "source": [
    "aor(w=15,l=20)"
   ]
  },
  {
   "cell_type": "code",
   "execution_count": 80,
   "id": "20e578b0-c823-4c99-9584-f2e313135d63",
   "metadata": {},
   "outputs": [],
   "source": [
    "def area(radius,length,width):\n",
    "    aoc=3.14*radius*radius\n",
    "    aor=length*width\n",
    "    return (aoc,aor)"
   ]
  },
  {
   "cell_type": "code",
   "execution_count": 82,
   "id": "3c6cf155-3edd-429e-8109-c2ca3a316835",
   "metadata": {},
   "outputs": [
    {
     "data": {
      "text/plain": [
       "(314.0, 100)"
      ]
     },
     "execution_count": 82,
     "metadata": {},
     "output_type": "execute_result"
    }
   ],
   "source": [
    "area(radius=10,length=20,width=5)"
   ]
  },
  {
   "cell_type": "code",
   "execution_count": 56,
   "id": "ff3e0cc3-ccc5-49c5-8b24-b35b0a0754db",
   "metadata": {},
   "outputs": [],
   "source": [
    "def area(radius,length,width):\n",
    "    aoc=3.14*radius*radius\n",
    "    aor=length*width\n",
    "    return (aoc,aor)"
   ]
  },
  {
   "cell_type": "code",
   "execution_count": 48,
   "id": "f2d4bb9d-6083-47d3-b1df-731bbe185736",
   "metadata": {},
   "outputs": [
    {
     "data": {
      "text/plain": [
       "[100, 314.0]"
      ]
     },
     "execution_count": 48,
     "metadata": {},
     "output_type": "execute_result"
    }
   ],
   "source": [
    "area(radius=10,length=20,width=5)"
   ]
  },
  {
   "cell_type": "code",
   "execution_count": 52,
   "id": "1dff74ae-3234-4ecd-ad7c-34360b7865d1",
   "metadata": {},
   "outputs": [],
   "source": [
    "s=area(radius=10,length=20,width=5)"
   ]
  },
  {
   "cell_type": "code",
   "execution_count": 54,
   "id": "ed0a4a9b-7f2d-4c94-a4d2-9d52d859e595",
   "metadata": {},
   "outputs": [
    {
     "data": {
      "text/plain": [
       "100"
      ]
     },
     "execution_count": 54,
     "metadata": {},
     "output_type": "execute_result"
    }
   ],
   "source": [
    "s[0]"
   ]
  },
  {
   "cell_type": "code",
   "execution_count": 58,
   "id": "b911acad-058c-4af1-8ee9-cede5bc2aefa",
   "metadata": {},
   "outputs": [],
   "source": [
    "def area(radius,length,width):\n",
    "    aoc=3.14*radius*radius\n",
    "    aor=length*width\n",
    "    return {'Area of rectangle':aor,'Area of cricle':aoc}"
   ]
  },
  {
   "cell_type": "code",
   "execution_count": 60,
   "id": "d616535c-3d53-4264-ad50-e6264829b4f9",
   "metadata": {},
   "outputs": [
    {
     "data": {
      "text/plain": [
       "{'Area of rectangle': 100, 'Area of cricle': 314.0}"
      ]
     },
     "execution_count": 60,
     "metadata": {},
     "output_type": "execute_result"
    }
   ],
   "source": [
    "area(radius=10,length=20,width=5)"
   ]
  },
  {
   "cell_type": "code",
   "execution_count": 62,
   "id": "e64bd12c-7c7b-4e65-a6c3-d909db2c7ad2",
   "metadata": {},
   "outputs": [],
   "source": [
    "s=area(radius=10,length=20,width=5)"
   ]
  },
  {
   "cell_type": "code",
   "execution_count": 64,
   "id": "b118ef12-a56d-4555-97a7-8094ecb3c828",
   "metadata": {},
   "outputs": [
    {
     "data": {
      "text/plain": [
       "dict"
      ]
     },
     "execution_count": 64,
     "metadata": {},
     "output_type": "execute_result"
    }
   ],
   "source": [
    "type(s)"
   ]
  },
  {
   "cell_type": "code",
   "execution_count": 66,
   "id": "3726b938-4dbf-4791-acf8-e8b4ada15cc4",
   "metadata": {},
   "outputs": [],
   "source": [
    "def area(radius,length,width):\n",
    "    aoc=3.14*radius*radius\n",
    "    aor=length*width\n",
    "    return {aoc,aor}"
   ]
  },
  {
   "cell_type": "code",
   "execution_count": 68,
   "id": "5f5c4515-c0fe-4ec9-8aad-29c5ce8be3bd",
   "metadata": {},
   "outputs": [
    {
     "data": {
      "text/plain": [
       "{100, 314.0}"
      ]
     },
     "execution_count": 68,
     "metadata": {},
     "output_type": "execute_result"
    }
   ],
   "source": [
    "area(radius=10,length=20,width=5)"
   ]
  },
  {
   "cell_type": "code",
   "execution_count": 70,
   "id": "b7a8c495-8aa4-47df-9413-80bc86ea2ce6",
   "metadata": {},
   "outputs": [],
   "source": [
    "s=s=area(radius=10,length=20,width=5)"
   ]
  },
  {
   "cell_type": "code",
   "execution_count": 72,
   "id": "1d215737-9309-4194-a104-8ec2d2c18e89",
   "metadata": {},
   "outputs": [
    {
     "data": {
      "text/plain": [
       "set"
      ]
     },
     "execution_count": 72,
     "metadata": {},
     "output_type": "execute_result"
    }
   ],
   "source": [
    "type(s)"
   ]
  },
  {
   "cell_type": "code",
   "execution_count": 74,
   "id": "9cef8260-1bbd-46f7-8d07-9ca1568ba33d",
   "metadata": {},
   "outputs": [
    {
     "data": {
      "text/plain": [
       "'Hyderabad 500008 Telangana'"
      ]
     },
     "execution_count": 74,
     "metadata": {},
     "output_type": "execute_result"
    }
   ],
   "source": [
    "t='Hyderabad 500008 Telangana'\n",
    "t"
   ]
  },
  {
   "cell_type": "code",
   "execution_count": 76,
   "id": "b8765b40-e16a-478e-ac98-50e6f13ecb3e",
   "metadata": {},
   "outputs": [],
   "source": [
    "def count_num_alpha(x):\n",
    "    c=0\n",
    "    d=0\n",
    "    for i in x:\n",
    "        if i.isalpha():\n",
    "            c+=1\n",
    "        elif i.isnumeric():\n",
    "            d+=1\n",
    "        return {'Number of alphabets':c,'Number od digits':d}"
   ]
  },
  {
   "cell_type": "code",
   "execution_count": 78,
   "id": "c51e8ef1-72cc-4023-9563-e6a4e0bf0d0f",
   "metadata": {},
   "outputs": [
    {
     "data": {
      "text/plain": [
       "{'Number of alphabets': 1, 'Number od digits': 0}"
      ]
     },
     "execution_count": 78,
     "metadata": {},
     "output_type": "execute_result"
    }
   ],
   "source": [
    "count_num_alpha(t)"
   ]
  },
  {
   "cell_type": "code",
   "execution_count": 96,
   "id": "765040a3-4aaa-4993-92ab-ecc401adef4b",
   "metadata": {},
   "outputs": [],
   "source": [
    "t='Hyderabad 50008 telangana'\n",
    "def remove_num(t):\n",
    "    y=''\n",
    "    for i in x:\n",
    "        if i.isdigit()==False:\n",
    "            y+=i\n",
    "        return y"
   ]
  },
  {
   "cell_type": "code",
   "execution_count": 98,
   "id": "39990b3d-ba97-41e8-a63f-ee80e1810d18",
   "metadata": {},
   "outputs": [
    {
     "data": {
      "text/plain": [
       "'H'"
      ]
     },
     "execution_count": 98,
     "metadata": {},
     "output_type": "execute_result"
    }
   ],
   "source": [
    "remove_num(t)"
   ]
  },
  {
   "cell_type": "code",
   "execution_count": null,
   "id": "4bf3ecb3-b10a-4ef4-bd59-17c5209eb235",
   "metadata": {},
   "outputs": [],
   "source": []
  }
 ],
 "metadata": {
  "kernelspec": {
   "display_name": "Python [conda env:base] *",
   "language": "python",
   "name": "conda-base-py"
  },
  "language_info": {
   "codemirror_mode": {
    "name": "ipython",
    "version": 3
   },
   "file_extension": ".py",
   "mimetype": "text/x-python",
   "name": "python",
   "nbconvert_exporter": "python",
   "pygments_lexer": "ipython3",
   "version": "3.12.7"
  }
 },
 "nbformat": 4,
 "nbformat_minor": 5
}
